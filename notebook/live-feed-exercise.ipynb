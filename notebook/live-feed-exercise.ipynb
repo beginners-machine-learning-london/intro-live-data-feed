{
 "cells": [
  {
   "cell_type": "markdown",
   "metadata": {
    "slideshow": {
     "slide_type": "slide"
    }
   },
   "source": [
    "# INTRODUCTION TO LIVE DATA FEEDS \n",
    "**via the STOMP PROTOCOL**"
   ]
  },
  {
   "cell_type": "markdown",
   "metadata": {
    "slideshow": {
     "slide_type": "skip"
    }
   },
   "source": [
    "<div class='alert alert-success'><b>NOTE:</b>This jupyter notebook is slide enabled. If you have <b>rise</b> installed you will be able to go into the slideshow mode by pressing the slideshow button below.</div>\n",
    "<img src='./images/rise-slideshow.png'>"
   ]
  },
  {
   "cell_type": "markdown",
   "metadata": {
    "slideshow": {
     "slide_type": "subslide"
    }
   },
   "source": [
    "Publish/subscribe messaging, or pub/sub messaging, is a form of asynchronous service-to-service communication used in serverless and microservices architectures. In a pub/sub model, any message published to a topic is immediately received by all of the subscribers to the topic. Pub/sub messaging can be used to enable event-driven architectures, or to decouple applications in order to increase performance, reliability and scalability."
   ]
  },
  {
   "cell_type": "markdown",
   "metadata": {
    "slideshow": {
     "slide_type": "subslide"
    }
   },
   "source": [
    "In this hands-on Beginners Machine Learning online workshop, you will learn how to listen to live feeds, parse save the received messages. For this workshop we will be using Network Rail's live data feeds accessible [here](https://www.networkrail.co.uk/who-we-are/transparency-and-ethics/transparency/open-data-feeds/).\n",
    "\n",
    "<div class='alert alert-info'>\n",
    "    Information about the current Network Rail Feeds can be found \n",
    "    <a href='https://wiki.openraildata.com/index.php/About_the_Network_Rail_feeds'><b>here</b></a>\n",
    "    </div>\n",
    "    \n",
    "<img src='./images/nr-feeds.png'>"
   ]
  },
  {
   "cell_type": "markdown",
   "metadata": {
    "slideshow": {
     "slide_type": "subslide"
    }
   },
   "source": [
    "During the workshop we will listen to Network Rail's live train describer data in this Jupyter notebook. We first will learn about the STOMP protocol, then look at how one can listen to these messages, and then will define our own behaviours to save and parse these messages received."
   ]
  },
  {
   "cell_type": "markdown",
   "metadata": {
    "slideshow": {
     "slide_type": "fragment"
    }
   },
   "source": [
    "At the end of this tutorial, you are required to complete a set of exercises to distill your understanding of the content we will cover in this workshop."
   ]
  },
  {
   "cell_type": "markdown",
   "metadata": {
    "slideshow": {
     "slide_type": "fragment"
    }
   },
   "source": [
    "<div class='alert alert-danger'>\n",
    "    <b>Prerequisite:</b> Before you proceed with this tutorial you will need to register for an account on the <a href = 'https://datafeeds.networkrail.co.uk/ntrod/login'>network rail data feed portal</a>. Once your account has been activated you will be able to subscribe to feeds via the portal. Instructions how to do this is in the `account-creation.ipynb` notebook. It may take a few hours to a few days for your account to be activated.\n",
    "</div>"
   ]
  },
  {
   "cell_type": "markdown",
   "metadata": {
    "slideshow": {
     "slide_type": "slide"
    }
   },
   "source": [
    "### What is STOMP?\n",
    "[STOMP](https://stomp.github.io/stomp-specification-1.2.html#Abstract) (Simple Text Oriented Messaging Protocol) is a text based protocol used with message oriented middleware in IoT (Internet of Things). It defines a text based wire-format for messages passed between these clients and servers.\n",
    "\n",
    "The main philosophies driving the design of STOMP are simplicity and interoperability."
   ]
  },
  {
   "cell_type": "markdown",
   "metadata": {
    "slideshow": {
     "slide_type": "subslide"
    }
   },
   "source": [
    "Like other broker based protocols, STOMP specifies publish-subscribe mechanism. Here clients subscribe to topics (similar to requesting a web path in HTTP) and they will be notified whenever messages have been sent to that particular topic by broker. "
   ]
  },
  {
   "cell_type": "markdown",
   "metadata": {
    "slideshow": {
     "slide_type": "subslide"
    }
   },
   "source": [
    "```python\n",
    "import stomp \n",
    "\n",
    "# Define communication setings here\n",
    "c = stomp.Connection(host_and_ports=[('datafeeds.networkrail.co.uk', 61618)],\n",
    "                     vhost='datafeeds.networkrail.co.uk')\n",
    "```"
   ]
  },
  {
   "cell_type": "markdown",
   "metadata": {},
   "source": [
    "```python\n",
    "# start a connection and authenticate\n",
    "c.connect(username='username',\n",
    "          passcode='password',\n",
    "          wait=True)\n",
    "\n",
    "# Subscribe to topics\n",
    "c.subscribe('/topic/TD_WESS_SIG_AREA', id='test-td')\n",
    "```"
   ]
  },
  {
   "cell_type": "markdown",
   "metadata": {
    "slideshow": {
     "slide_type": "subslide"
    }
   },
   "source": [
    "The main difference between HTTP and STOMP is the protocol of communication. While HTTP works within a request-response constraint, STOMP uses less contraining communication protocols - for instance, clients can keep a connection open with a sever to receive messages as they are broadcasted by the server."
   ]
  },
  {
   "cell_type": "markdown",
   "metadata": {
    "slideshow": {
     "slide_type": "slide"
    }
   },
   "source": [
    "### Why was STOMP created?\n",
    "STOMP arose from a need to connect to enterprise message brokers from scripting languages such as Python. It distinguishes itself by covering a small subset of commonly used messaging operations rather than providing a comprehensive messaging API."
   ]
  },
  {
   "cell_type": "markdown",
   "metadata": {
    "slideshow": {
     "slide_type": "subslide"
    }
   },
   "source": [
    "The STOMP Architecture is show below:\n",
    "<img src='./images/STOMP-protocol-architecture.jpg' width='60%' style='margin: 0 auto'>"
   ]
  },
  {
   "cell_type": "markdown",
   "metadata": {
    "slideshow": {
     "slide_type": "subslide"
    }
   },
   "source": [
    "STOMP is designed to be a lightweight protocol that is easy to implement both on the client and server side in a wide range of languages. This implies, in particular, that there are not many constraints on the architecture of servers and many features such as destination naming and reliability semantics are implementation specific.\n"
   ]
  },
  {
   "cell_type": "markdown",
   "metadata": {
    "slideshow": {
     "slide_type": "slide"
    }
   },
   "source": [
    "### What are STOMP frames?\n",
    "STOMP is a **frame-based** protocol which assumes a reliable 2-way streaming network protocol (such as TCP) underneath. Think of **protocols** as established rules of communication between servers and clients. The client and server will communicate using STOMP frames sent over the stream. "
   ]
  },
  {
   "cell_type": "markdown",
   "metadata": {
    "slideshow": {
     "slide_type": "fragment"
    }
   },
   "source": [
    "<div class= 'alert alert-info'>\n",
    "All STOMP clients and servers MUST support UTF-8 encoding and decoding. Therefore, for maximum interoperability in a heterogeneous computing environment, it is RECOMMENDED that text based content be encoded with UTF-8.\n",
    "    </div>"
   ]
  },
  {
   "cell_type": "markdown",
   "metadata": {
    "slideshow": {
     "slide_type": "slide"
    }
   },
   "source": [
    "### What is the STOMP client?\n",
    "A STOMP client is a user-agent which can act in two (possibly simultaneous) modes:\n",
    "- as a producer, sending messages to a destination on the server via a SEND frame\n",
    "- as a consumer, sending a SUBSCRIBE frame for a given destination and receiving messages from the server as MESSAGE frames."
   ]
  },
  {
   "cell_type": "markdown",
   "metadata": {
    "slideshow": {
     "slide_type": "subslide"
    }
   },
   "source": [
    "```python\n",
    "import stomp\n",
    "import sleep\n",
    "\n",
    "# Connection Settings \n",
    "client = stomp.Connection()\n",
    "\n",
    "# Listening Behaviour\n",
    "client.set_listener()\n",
    "```"
   ]
  },
  {
   "cell_type": "markdown",
   "metadata": {
    "slideshow": {
     "slide_type": "subslide"
    }
   },
   "source": [
    "```python\n",
    "# Establishing Connection\n",
    "client.connect()\n",
    "\n",
    "# Subscribe to a topic and listen to messages based on listening Behaviour \n",
    "client.subscribe()\n",
    "```"
   ]
  },
  {
   "cell_type": "markdown",
   "metadata": {
    "slideshow": {
     "slide_type": "subslide"
    }
   },
   "source": [
    "```python\n",
    "# Send a message to the broker\n",
    "client.send()\n",
    "\n",
    "# Disconnect the client from the broker\n",
    "client.disconnect()\n",
    "```"
   ]
  },
  {
   "cell_type": "markdown",
   "metadata": {
    "slideshow": {
     "slide_type": "slide"
    }
   },
   "source": [
    "### What does connecting mean?\n",
    "A STOMP client initiates the stream or TCP connection to the server by sending the CONNECT frame. If the server accepts the connection attempt it will respond with a CONNECTED frame.\n",
    "\n",
    "The server can also reject any connection attempt. The server will respond back with an ERROR frame explaining why the connection was rejected and then close the connection."
   ]
  },
  {
   "cell_type": "markdown",
   "metadata": {
    "slideshow": {
     "slide_type": "fragment"
    }
   },
   "source": [
    "```python\n",
    "# start a connection and authenticate\n",
    "c.connect(username='username',\n",
    "          passcode='password',\n",
    "          wait=True)\n",
    "```"
   ]
  },
  {
   "cell_type": "markdown",
   "metadata": {
    "slideshow": {
     "slide_type": "slide"
    }
   },
   "source": [
    "### What is subscribing?\n",
    "The `SUBSCRIBE` frame is used to register to listen to a given destination. "
   ]
  },
  {
   "cell_type": "markdown",
   "metadata": {
    "slideshow": {
     "slide_type": "fragment"
    }
   },
   "source": [
    "```python\n",
    "c = stomp.Connection()\n",
    "c.subscribe('/topic/feed_topic', 'test-td')\n",
    "```"
   ]
  },
  {
   "cell_type": "markdown",
   "metadata": {
    "slideshow": {
     "slide_type": "slide"
    }
   },
   "source": [
    "### What is listening?\n",
    "To receive messages back from the messaging system, you need to setup some sort of listener on your connection, and then subscribe to the destination (see STOMP subscribe). Listeners are simply a subclass which implements the methods in the `ConnectionListener` class. Stomp provides a few implementations of listeners, but the simplest is `PrintingListener` which just prints all interactions between the client and server."
   ]
  },
  {
   "cell_type": "code",
   "execution_count": null,
   "metadata": {
    "slideshow": {
     "slide_type": "fragment"
    }
   },
   "outputs": [],
   "source": [
    "c = stomp.Connection()\n",
    "\n",
    "c.set_listener('Printing Listener', PrintingListener)\n",
    "\n",
    "c.connect(username=NETWORK_RAIL_AUTH['username'],\n",
    "           passcode=NETWORK_RAIL_AUTH['password'],\n",
    "           wait=True)\n",
    "\n",
    "c.subscribe('/topic/feed_topic', 'test-td')\n",
    "sleep(x) # Listen for x number of seconds\n",
    "c.disconnect()"
   ]
  },
  {
   "cell_type": "markdown",
   "metadata": {
    "slideshow": {
     "slide_type": "fragment"
    }
   },
   "source": [
    "<div class='alert alert-danger'>\n",
    "    <b>WARNING:</b> stomp.py may behave unexpectedly if you set multiple listener specs on one client. Always create a new connection client and then set a new listener.\n",
    "</div>"
   ]
  },
  {
   "cell_type": "markdown",
   "metadata": {
    "slideshow": {
     "slide_type": "subslide"
    }
   },
   "source": [
    "We can also provide our custom `ConnectionListener`. To do so we need to define the `ConnectionListner` class. Instantiate it and provide the instantiated object to the `c.set_listener()` method."
   ]
  },
  {
   "cell_type": "code",
   "execution_count": null,
   "metadata": {
    "slideshow": {
     "slide_type": "fragment"
    }
   },
   "outputs": [],
   "source": [
    "class ConnectionListener():\n",
    "    def __init__(self, mq):\n",
    "        self._mq = mq\n",
    "\n",
    "    def on_message(self, headers, message):\n",
    "        self._mq.ack(id=headers['message-id'], subscription=headers['subscription'])"
   ]
  },
  {
   "cell_type": "code",
   "execution_count": null,
   "metadata": {
    "slideshow": {
     "slide_type": "fragment"
    }
   },
   "outputs": [],
   "source": [
    "c = stomp.Connection()\n",
    "Listener_obj = ConnectionListener()\n",
    "c.set_listener('Our Custom Listener', Listener_obj)\n",
    "\n",
    "c.connect(username=NETWORK_RAIL_AUTH['username'],\n",
    "           passcode=NETWORK_RAIL_AUTH['password'],\n",
    "           wait=True)\n",
    "\n",
    "c.subscribe('/topic/feed_topic', 'test-td', ack = 'client-individual')\n",
    "sleep(x) # Listen for x number of seconds\n",
    "c.disconnect()"
   ]
  },
  {
   "cell_type": "markdown",
   "metadata": {
    "slideshow": {
     "slide_type": "slide"
    }
   },
   "source": [
    "### What is heartbeating?\n",
    "**Heart-beating** can optionally be used to test the healthiness of the underlying TCP connection and to make sure that the remote end is alive and kicking.\n",
    "\n",
    "The heart-beat header provides enough information so that each party can find out if heart-beats can be used, in which direction, and with which frequency."
   ]
  },
  {
   "cell_type": "markdown",
   "metadata": {
    "slideshow": {
     "slide_type": "fragment"
    }
   },
   "source": [
    "```python\n",
    "c = stomp.Connection(heartbeats=(10000, 5000))\n",
    "```"
   ]
  },
  {
   "cell_type": "markdown",
   "metadata": {
    "slideshow": {
     "slide_type": "subslide"
    }
   },
   "source": [
    "The first number represents what the stomp client can send (outgoing heart-beats):\n",
    "- `heartbeats = (0, n)` means it cannot send heart-beats\n",
    "- otherwise it is the smallest number of milliseconds between heart-beats that it can guarantee. For instance, `heartbeats = (10000, n)` is 10 seconds."
   ]
  },
  {
   "cell_type": "markdown",
   "metadata": {
    "slideshow": {
     "slide_type": "fragment"
    }
   },
   "source": [
    "The second number represents what the client would like to get (incoming heart-beats):\n",
    "- `heartbeats = (n, 0)` means it does not want to receive heart-beats\n",
    "- otherwise it is the desired number of milliseconds between heart-beats. For instance, `heartbeats = (n, 5000)` is 5 seconds."
   ]
  },
  {
   "cell_type": "markdown",
   "metadata": {
    "slideshow": {
     "slide_type": "subslide"
    }
   },
   "source": [
    "Regarding the heart-beats themselves, any new data received over the network connection is an indication that the remote end is alive. In a given direction, if heart-beats are expected every `n` milliseconds."
   ]
  },
  {
   "cell_type": "markdown",
   "metadata": {
    "slideshow": {
     "slide_type": "fragment"
    }
   },
   "source": [
    "<div class='alert alert-danger'>If, inside a time window of at least <b>n</b> milliseconds, the receiver did not receive any new data, it MAY consider the connection as dead</div>"
   ]
  },
  {
   "cell_type": "markdown",
   "metadata": {
    "slideshow": {
     "slide_type": "slide"
    }
   },
   "source": [
    "### Acknowledgements - What are Ack and Nacks - Why are they used?\n",
    "Acknowledgements are a way to tell the message server that a message was either consumed, or not. Assume a collection of clients on a server listening on a queue, and a message which requires significant processing. One of the clients receives the message, checks resource usage on the server and decides to send a nack as a consequence. The message server could, at that point, decide to send to a failover server for processing (that’s a possible use, anyway)."
   ]
  },
  {
   "cell_type": "markdown",
   "metadata": {
    "slideshow": {
     "slide_type": "fragment"
    }
   },
   "source": [
    "`ACK` is used to acknowledge consumption of a message from a subscription using `client` or `client-individual` acknowledgment. Any messages received from such a subscription will not be considered to have been consumed until the message has been acknowledged via an `ACK`."
   ]
  },
  {
   "cell_type": "markdown",
   "metadata": {
    "slideshow": {
     "slide_type": "fragment"
    }
   },
   "source": [
    "`NACK` is the opposite of `ACK`. It is used to tell the server that the client did not consume the message. The server can then either send the message to a different client, discard it, or put it in a dead letter queue. The exact behavior is server specific."
   ]
  },
  {
   "cell_type": "markdown",
   "metadata": {
    "slideshow": {
     "slide_type": "subslide"
    }
   },
   "source": [
    "```python\n",
    "c = stomp.Connection()\n",
    "c.subscribe('/topic/feed_topic', 'test-td', ack = 'client-individual')\n",
    "```"
   ]
  },
  {
   "cell_type": "markdown",
   "metadata": {
    "slideshow": {
     "slide_type": "fragment"
    }
   },
   "source": [
    "The valid values for the **ack header** are `auto`, `client`, or `client-individual`. If the header is not set, it defaults to `auto`."
   ]
  },
  {
   "cell_type": "markdown",
   "metadata": {
    "slideshow": {
     "slide_type": "fragment"
    }
   },
   "source": [
    "When the ack mode is `auto`, then the client does not need to send the server `ACK` frames for the messages it receives. The server will assume the client has received the message as soon as it sends it to the client. This acknowledgment mode can cause messages being transmitted to the client to get dropped."
   ]
  },
  {
   "cell_type": "markdown",
   "metadata": {
    "slideshow": {
     "slide_type": "fragment"
    }
   },
   "source": [
    "When the ack mode is `client`, then the client MUST send the server `ACK` frames for the messages it processes. "
   ]
  },
  {
   "cell_type": "markdown",
   "metadata": {
    "slideshow": {
     "slide_type": "subslide"
    }
   },
   "source": [
    "<div class='alert alert-danger'>\n",
    "If the connection fails before a client sends an `ACK` frame for the message the server will assume the message has not been processed and MAY redeliver the message to another client. The `ACK` frames sent by the client will be treated as a cumulative acknowledgment. This means the acknowledgment operates on the message specified in the ACK frame and all messages sent to the subscription before the ACK'ed message.\n",
    "</div>"
   ]
  },
  {
   "cell_type": "markdown",
   "metadata": {
    "slideshow": {
     "slide_type": "fragment"
    }
   },
   "source": [
    "When the ack mode is `client-individual`, the acknowledgment operates just like the client acknowledgment mode except that the `ACK` or `NACK` frames sent by the client are not cumulative. This means that an `ACK` or `NACK` frame for a subsequent message MUST NOT cause a previous message to get acknowledged."
   ]
  },
  {
   "cell_type": "markdown",
   "metadata": {
    "slideshow": {
     "slide_type": "fragment"
    }
   },
   "source": [
    "<div class='alert alert-info'>In case the client did not process some messages, it SHOULD send `NACK` frames to tell the server it did not consume these messages.</div>"
   ]
  },
  {
   "cell_type": "code",
   "execution_count": null,
   "metadata": {
    "slideshow": {
     "slide_type": "subslide"
    }
   },
   "outputs": [],
   "source": [
    "c = stomp.Connection()\n",
    "\n",
    "c.connect(username=NETWORK_RAIL_AUTH['username'],\n",
    "           passcode=NETWORK_RAIL_AUTH['password'],\n",
    "           wait=True)\n",
    "\n",
    "c.subscribe('/topic/feed_topic', 'test-td', ack = 'client-individual')\n",
    "sleep(x) # Listen for x number of seconds\n",
    "c.disconnect()"
   ]
  },
  {
   "cell_type": "markdown",
   "metadata": {
    "slideshow": {
     "slide_type": "slide"
    }
   },
   "source": [
    "### Begin and Disconnect\n",
    "BEGIN is used to start a transaction. Transactions in this case apply to sending and acknowledging - any messages sent or acknowledged during a transaction will be processed automically based on the transaction."
   ]
  },
  {
   "cell_type": "markdown",
   "metadata": {
    "slideshow": {
     "slide_type": "fragment"
    }
   },
   "source": [
    "```python\n",
    "c = stomp.Connection()\n",
    "c.subscribe()\n",
    "c.begin()\n",
    "sleep(x)\n",
    "c.disconnect()\n",
    "```"
   ]
  },
  {
   "cell_type": "markdown",
   "metadata": {
    "slideshow": {
     "slide_type": "subslide"
    }
   },
   "source": [
    "A client can disconnect from the server at anytime by closing the socket but there is no guarantee that the previously sent frames have been received by the server. Therefore, a graceful shutdown is required where the client is assured that all previous frames have been received by the server."
   ]
  },
  {
   "cell_type": "markdown",
   "metadata": {
    "slideshow": {
     "slide_type": "fragment"
    }
   },
   "source": [
    "Fortuneately, Python `stomp.py` library supports graceful shutdown/disconnections through a receipt parameter (automatically generated if you don’t provide it). The connection is only dropped when the server sends back a response to that receipt."
   ]
  },
  {
   "cell_type": "markdown",
   "metadata": {
    "slideshow": {
     "slide_type": "slide"
    }
   },
   "source": [
    "## Connecting to Network Rail's Live Data Feed\n",
    "\n",
    "First import the required libraries"
   ]
  },
  {
   "cell_type": "code",
   "execution_count": 42,
   "metadata": {
    "slideshow": {
     "slide_type": "subslide"
    }
   },
   "outputs": [],
   "source": [
    "import pandas as pd\n",
    "import json\n",
    "import stomp\n",
    "from time import sleep"
   ]
  },
  {
   "cell_type": "markdown",
   "metadata": {
    "slideshow": {
     "slide_type": "slide"
    }
   },
   "source": [
    "### Constructing a listener class\n",
    "\n",
    "To receive messages back from the messaging system, you need to setup some sort of listener on your connection, and then subscribe to the destination"
   ]
  },
  {
   "cell_type": "code",
   "execution_count": 38,
   "metadata": {
    "slideshow": {
     "slide_type": "subslide"
    }
   },
   "outputs": [],
   "source": [
    "class ConnectionListener():\n",
    "    def __init__(self, mq):\n",
    "        self._mq = mq\n",
    "        self.msg_list = []\n",
    "\n",
    "    def on_message(self, headers, message):\n",
    "        print(message)\n",
    "        self.msg_list.append(message)\n",
    "        self._mq.ack(id=headers['message-id'], subscription=headers['subscription'])"
   ]
  },
  {
   "cell_type": "markdown",
   "metadata": {
    "slideshow": {
     "slide_type": "slide"
    }
   },
   "source": [
    "### Collecting the user credentials for authentication\n",
    "To establish a connection we will need to provide the script with your credentials."
   ]
  },
  {
   "cell_type": "code",
   "execution_count": 40,
   "metadata": {
    "scrolled": true,
    "slideshow": {
     "slide_type": "subslide"
    }
   },
   "outputs": [
    {
     "name": "stdout",
     "output_type": "stream",
     "text": [
      "What is your account username?admin\n",
      "What is your account password?password\n",
      "Authentication information saved as username: admin and password: password\n"
     ]
    }
   ],
   "source": [
    "username = input('What is your account username? ')\n",
    "password = input('What is your account password? ')\n",
    "NETWORK_RAIL_AUTH = {'username': username, \n",
    "                     'password': password}\n",
    "\n",
    "print('Authentication information saved as',\n",
    "      f\"username: {NETWORK_RAIL_AUTH['username']}\",\n",
    "      f\"and password: {NETWORK_RAIL_AUTH['password']}\")"
   ]
  },
  {
   "cell_type": "markdown",
   "metadata": {
    "slideshow": {
     "slide_type": "subslide"
    }
   },
   "source": [
    "<div class=\"alert alert-danger\">\n",
    "    <b>DANGER</b>: Be careful not to commit this notebook or script to any version control system with your credentials hardcoded. A more secure way of providing your credentials is by constructing an argument parser using Python's <a href = 'https://docs.python.org/3/library/argparse.html'>argparse module</a>.\n",
    "    </div>"
   ]
  },
  {
   "cell_type": "markdown",
   "metadata": {
    "slideshow": {
     "slide_type": "fragment"
    }
   },
   "source": [
    "```python\n",
    "# python\n",
    "import argparse\n",
    "\n",
    "ap = argparse.ArgumentParser()\n",
    "ap.add_argument('-u', '--username', required=True, help='What is your account username?')\n",
    "ap.add_argument('-p', '--password', required=True, help='What is your account password?')\n",
    "NETWORK_RAIL_AUTH = vars(ap.parse_args())\n",
    "```"
   ]
  },
  {
   "cell_type": "markdown",
   "metadata": {
    "slideshow": {
     "slide_type": "fragment"
    }
   },
   "source": [
    "```python\n",
    "c = stomp.Connection()\n",
    "c.connect(username=NETWORK_RAIL_AUTH['username'],\n",
    "          passcode=NETWORK_RAIL_AUTH['password'],\n",
    "          wait=True)\n",
    "```"
   ]
  },
  {
   "cell_type": "markdown",
   "metadata": {
    "slideshow": {
     "slide_type": "subslide"
    }
   },
   "source": [
    "You can then run your programme using the follwing command once your argument parser is constructed."
   ]
  },
  {
   "cell_type": "markdown",
   "metadata": {
    "slideshow": {
     "slide_type": "fragment"
    }
   },
   "source": [
    "```bash\n",
    "# bash\n",
    "your_script.py -u admin -p password\n",
    "```"
   ]
  },
  {
   "cell_type": "markdown",
   "metadata": {
    "slideshow": {
     "slide_type": "slide"
    }
   },
   "source": [
    "### Putting it all together\n",
    "You can create a `listen` function as follows to listen to any datafeed topic."
   ]
  },
  {
   "cell_type": "code",
   "execution_count": 1,
   "metadata": {
    "slideshow": {
     "slide_type": "subslide"
    }
   },
   "outputs": [],
   "source": [
    "def listen(secs):\n",
    "    c = stomp.Connection(host_and_ports=[('datafeeds.networkrail.co.uk', 61618)],\n",
    "                          keepalive=True,\n",
    "                          vhost='datafeeds.networkrail.co.uk',\n",
    "                          heartbeats=(10000, 5000))\n",
    "\n",
    "    Listener_obj = ConnectionListener(c)\n",
    "    c.set_listener('', Listener_obj)\n",
    "\n",
    "    c.connect(username=NETWORK_RAIL_AUTH['username'],\n",
    "               passcode=NETWORK_RAIL_AUTH['password'],\n",
    "               wait=True)\n",
    "    c.subscribe('/topic/TD_WESS_SIG_AREA', 'test-td', ack='client-individual')\n",
    "\n",
    "    sleep(secs) # secs\n",
    "    c.disconnect()\n",
    "\n",
    "    output = Listener_obj.msg_list\n",
    "\n",
    "    return output"
   ]
  },
  {
   "cell_type": "markdown",
   "metadata": {
    "slideshow": {
     "slide_type": "subslide"
    }
   },
   "source": [
    "Now let's listen to the feed for 20 seconds before disconnecting."
   ]
  },
  {
   "cell_type": "code",
   "execution_count": 70,
   "metadata": {
    "slideshow": {
     "slide_type": "fragment"
    }
   },
   "outputs": [
    {
     "name": "stderr",
     "output_type": "stream",
     "text": [
      "keepalive: unable to detect any implementation, DISABLED!\n"
     ]
    },
    {
     "name": "stdout",
     "output_type": "stream",
     "text": [
      "[{\"CT_MSG\":{\"time\":\"1589335868000\",\"area_id\":\"FH\",\"msg_type\":\"CT\",\"report_time\":\"0254\"}},{\"CT_MSG\":{\"time\":\"1589335868000\",\"area_id\":\"BP\",\"msg_type\":\"CT\",\"report_time\":\"0217\"}},{\"CT_MSG\":{\"time\":\"1589335869000\",\"area_id\":\"BS\",\"msg_type\":\"CT\",\"report_time\":\"2157\"}}]\n",
      "[{\"CA_MSG\":{\"to\":\"0510\",\"time\":\"1589335872000\",\"area_id\":\"BE\",\"msg_type\":\"CA\",\"from\":\"0514\",\"descr\":\"428I\"}},{\"CT_MSG\":{\"time\":\"1589335874000\",\"area_id\":\"HT\",\"msg_type\":\"CT\",\"report_time\":\"0306\"}},{\"CT_MSG\":{\"time\":\"1589335876000\",\"area_id\":\"EH\",\"msg_type\":\"CT\",\"report_time\":\"0311\"}},{\"SF_MSG\":{\"time\":\"1589335875000\",\"area_id\":\"EH\",\"address\":\"3F\",\"msg_type\":\"SF\",\"data\":\"00\"}}]\n",
      "[{\"CT_MSG\":{\"time\":\"1589335876000\",\"area_id\":\"SU\",\"msg_type\":\"CT\",\"report_time\":\"0310\"}},{\"SF_MSG\":{\"time\":\"1589335878000\",\"area_id\":\"BE\",\"address\":\"35\",\"msg_type\":\"SF\",\"data\":\"AF\"}}]\n",
      "[{\"CA_MSG\":{\"to\":\"0962\",\"time\":\"1589335885000\",\"area_id\":\"SU\",\"msg_type\":\"CA\",\"from\":\"0964\",\"descr\":\"662I\"}}]\n"
     ]
    }
   ],
   "source": [
    "output = listen(20)"
   ]
  },
  {
   "cell_type": "markdown",
   "metadata": {
    "slideshow": {
     "slide_type": "slide"
    }
   },
   "source": [
    "### Parsing the messages recieved\n",
    "Messages received are in string format. Looking closely we can see the messages are sem-structured similar to JSON files.  We will need to first parse them into JSON objects then parse them into a pandas dataframe.\n",
    "\n",
    "To start, we can use a nested for loop to achieve this. For each message recieved we will parse it into a JSON object, then convert the JSON object into a dataframe. We then transpose the dataframe before appending it to a list. Once all messages have been converted to a dataframe and appended in a list, we will use the `pd.concat` method to concatenate all the dataframes into a single dataframe."
   ]
  },
  {
   "cell_type": "code",
   "execution_count": 116,
   "metadata": {
    "scrolled": true,
    "slideshow": {
     "slide_type": "subslide"
    }
   },
   "outputs": [
    {
     "data": {
      "text/html": [
       "<div>\n",
       "<style scoped>\n",
       "    .dataframe tbody tr th:only-of-type {\n",
       "        vertical-align: middle;\n",
       "    }\n",
       "\n",
       "    .dataframe tbody tr th {\n",
       "        vertical-align: top;\n",
       "    }\n",
       "\n",
       "    .dataframe thead th {\n",
       "        text-align: right;\n",
       "    }\n",
       "</style>\n",
       "<table border=\"1\" class=\"dataframe\">\n",
       "  <thead>\n",
       "    <tr style=\"text-align: right;\">\n",
       "      <th></th>\n",
       "      <th>area_id</th>\n",
       "      <th>msg_type</th>\n",
       "      <th>report_time</th>\n",
       "      <th>time</th>\n",
       "      <th>descr</th>\n",
       "      <th>from</th>\n",
       "      <th>to</th>\n",
       "      <th>address</th>\n",
       "      <th>data</th>\n",
       "    </tr>\n",
       "  </thead>\n",
       "  <tbody>\n",
       "    <tr>\n",
       "      <th>CT_MSG</th>\n",
       "      <td>FH</td>\n",
       "      <td>CT</td>\n",
       "      <td>0254</td>\n",
       "      <td>1589335868000</td>\n",
       "      <td>NaN</td>\n",
       "      <td>NaN</td>\n",
       "      <td>NaN</td>\n",
       "      <td>NaN</td>\n",
       "      <td>NaN</td>\n",
       "    </tr>\n",
       "    <tr>\n",
       "      <th>CT_MSG</th>\n",
       "      <td>BP</td>\n",
       "      <td>CT</td>\n",
       "      <td>0217</td>\n",
       "      <td>1589335868000</td>\n",
       "      <td>NaN</td>\n",
       "      <td>NaN</td>\n",
       "      <td>NaN</td>\n",
       "      <td>NaN</td>\n",
       "      <td>NaN</td>\n",
       "    </tr>\n",
       "    <tr>\n",
       "      <th>CT_MSG</th>\n",
       "      <td>BS</td>\n",
       "      <td>CT</td>\n",
       "      <td>2157</td>\n",
       "      <td>1589335869000</td>\n",
       "      <td>NaN</td>\n",
       "      <td>NaN</td>\n",
       "      <td>NaN</td>\n",
       "      <td>NaN</td>\n",
       "      <td>NaN</td>\n",
       "    </tr>\n",
       "    <tr>\n",
       "      <th>CA_MSG</th>\n",
       "      <td>BE</td>\n",
       "      <td>CA</td>\n",
       "      <td>NaN</td>\n",
       "      <td>1589335872000</td>\n",
       "      <td>428I</td>\n",
       "      <td>0514</td>\n",
       "      <td>0510</td>\n",
       "      <td>NaN</td>\n",
       "      <td>NaN</td>\n",
       "    </tr>\n",
       "    <tr>\n",
       "      <th>CT_MSG</th>\n",
       "      <td>HT</td>\n",
       "      <td>CT</td>\n",
       "      <td>0306</td>\n",
       "      <td>1589335874000</td>\n",
       "      <td>NaN</td>\n",
       "      <td>NaN</td>\n",
       "      <td>NaN</td>\n",
       "      <td>NaN</td>\n",
       "      <td>NaN</td>\n",
       "    </tr>\n",
       "    <tr>\n",
       "      <th>CT_MSG</th>\n",
       "      <td>EH</td>\n",
       "      <td>CT</td>\n",
       "      <td>0311</td>\n",
       "      <td>1589335876000</td>\n",
       "      <td>NaN</td>\n",
       "      <td>NaN</td>\n",
       "      <td>NaN</td>\n",
       "      <td>NaN</td>\n",
       "      <td>NaN</td>\n",
       "    </tr>\n",
       "    <tr>\n",
       "      <th>SF_MSG</th>\n",
       "      <td>EH</td>\n",
       "      <td>SF</td>\n",
       "      <td>NaN</td>\n",
       "      <td>1589335875000</td>\n",
       "      <td>NaN</td>\n",
       "      <td>NaN</td>\n",
       "      <td>NaN</td>\n",
       "      <td>3F</td>\n",
       "      <td>00</td>\n",
       "    </tr>\n",
       "    <tr>\n",
       "      <th>CT_MSG</th>\n",
       "      <td>SU</td>\n",
       "      <td>CT</td>\n",
       "      <td>0310</td>\n",
       "      <td>1589335876000</td>\n",
       "      <td>NaN</td>\n",
       "      <td>NaN</td>\n",
       "      <td>NaN</td>\n",
       "      <td>NaN</td>\n",
       "      <td>NaN</td>\n",
       "    </tr>\n",
       "    <tr>\n",
       "      <th>SF_MSG</th>\n",
       "      <td>BE</td>\n",
       "      <td>SF</td>\n",
       "      <td>NaN</td>\n",
       "      <td>1589335878000</td>\n",
       "      <td>NaN</td>\n",
       "      <td>NaN</td>\n",
       "      <td>NaN</td>\n",
       "      <td>35</td>\n",
       "      <td>AF</td>\n",
       "    </tr>\n",
       "    <tr>\n",
       "      <th>CA_MSG</th>\n",
       "      <td>SU</td>\n",
       "      <td>CA</td>\n",
       "      <td>NaN</td>\n",
       "      <td>1589335885000</td>\n",
       "      <td>662I</td>\n",
       "      <td>0964</td>\n",
       "      <td>0962</td>\n",
       "      <td>NaN</td>\n",
       "      <td>NaN</td>\n",
       "    </tr>\n",
       "  </tbody>\n",
       "</table>\n",
       "</div>"
      ],
      "text/plain": [
       "       area_id msg_type report_time           time descr  from    to address  \\\n",
       "CT_MSG      FH       CT        0254  1589335868000   NaN   NaN   NaN     NaN   \n",
       "CT_MSG      BP       CT        0217  1589335868000   NaN   NaN   NaN     NaN   \n",
       "CT_MSG      BS       CT        2157  1589335869000   NaN   NaN   NaN     NaN   \n",
       "CA_MSG      BE       CA         NaN  1589335872000  428I  0514  0510     NaN   \n",
       "CT_MSG      HT       CT        0306  1589335874000   NaN   NaN   NaN     NaN   \n",
       "CT_MSG      EH       CT        0311  1589335876000   NaN   NaN   NaN     NaN   \n",
       "SF_MSG      EH       SF         NaN  1589335875000   NaN   NaN   NaN      3F   \n",
       "CT_MSG      SU       CT        0310  1589335876000   NaN   NaN   NaN     NaN   \n",
       "SF_MSG      BE       SF         NaN  1589335878000   NaN   NaN   NaN      35   \n",
       "CA_MSG      SU       CA         NaN  1589335885000  662I  0964  0962     NaN   \n",
       "\n",
       "       data  \n",
       "CT_MSG  NaN  \n",
       "CT_MSG  NaN  \n",
       "CT_MSG  NaN  \n",
       "CA_MSG  NaN  \n",
       "CT_MSG  NaN  \n",
       "CT_MSG  NaN  \n",
       "SF_MSG   00  \n",
       "CT_MSG  NaN  \n",
       "SF_MSG   AF  \n",
       "CA_MSG  NaN  "
      ]
     },
     "execution_count": 116,
     "metadata": {},
     "output_type": "execute_result"
    }
   ],
   "source": [
    "df_list = []\n",
    "for o in output:\n",
    "    j = json.loads(o)\n",
    "    for msg in j:\n",
    "        df = pd.DataFrame(msg).T\n",
    "        df_list.append(df)\n",
    "\n",
    "pd.concat(df_list)"
   ]
  },
  {
   "cell_type": "markdown",
   "metadata": {
    "slideshow": {
     "slide_type": "subslide"
    }
   },
   "source": [
    "Whever possible, do not use loops - in particular nested loops as they will slow down your algorithms.\n",
    "Looking closely, the above operation can be completed in one line of code using a list comprehension."
   ]
  },
  {
   "cell_type": "code",
   "execution_count": 116,
   "metadata": {
    "scrolled": false,
    "slideshow": {
     "slide_type": "fragment"
    }
   },
   "outputs": [
    {
     "data": {
      "text/html": [
       "<div>\n",
       "<style scoped>\n",
       "    .dataframe tbody tr th:only-of-type {\n",
       "        vertical-align: middle;\n",
       "    }\n",
       "\n",
       "    .dataframe tbody tr th {\n",
       "        vertical-align: top;\n",
       "    }\n",
       "\n",
       "    .dataframe thead th {\n",
       "        text-align: right;\n",
       "    }\n",
       "</style>\n",
       "<table border=\"1\" class=\"dataframe\">\n",
       "  <thead>\n",
       "    <tr style=\"text-align: right;\">\n",
       "      <th></th>\n",
       "      <th>area_id</th>\n",
       "      <th>msg_type</th>\n",
       "      <th>report_time</th>\n",
       "      <th>time</th>\n",
       "      <th>descr</th>\n",
       "      <th>from</th>\n",
       "      <th>to</th>\n",
       "      <th>address</th>\n",
       "      <th>data</th>\n",
       "    </tr>\n",
       "  </thead>\n",
       "  <tbody>\n",
       "    <tr>\n",
       "      <th>CT_MSG</th>\n",
       "      <td>FH</td>\n",
       "      <td>CT</td>\n",
       "      <td>0254</td>\n",
       "      <td>1589335868000</td>\n",
       "      <td>NaN</td>\n",
       "      <td>NaN</td>\n",
       "      <td>NaN</td>\n",
       "      <td>NaN</td>\n",
       "      <td>NaN</td>\n",
       "    </tr>\n",
       "    <tr>\n",
       "      <th>CT_MSG</th>\n",
       "      <td>BP</td>\n",
       "      <td>CT</td>\n",
       "      <td>0217</td>\n",
       "      <td>1589335868000</td>\n",
       "      <td>NaN</td>\n",
       "      <td>NaN</td>\n",
       "      <td>NaN</td>\n",
       "      <td>NaN</td>\n",
       "      <td>NaN</td>\n",
       "    </tr>\n",
       "    <tr>\n",
       "      <th>CT_MSG</th>\n",
       "      <td>BS</td>\n",
       "      <td>CT</td>\n",
       "      <td>2157</td>\n",
       "      <td>1589335869000</td>\n",
       "      <td>NaN</td>\n",
       "      <td>NaN</td>\n",
       "      <td>NaN</td>\n",
       "      <td>NaN</td>\n",
       "      <td>NaN</td>\n",
       "    </tr>\n",
       "    <tr>\n",
       "      <th>CA_MSG</th>\n",
       "      <td>BE</td>\n",
       "      <td>CA</td>\n",
       "      <td>NaN</td>\n",
       "      <td>1589335872000</td>\n",
       "      <td>428I</td>\n",
       "      <td>0514</td>\n",
       "      <td>0510</td>\n",
       "      <td>NaN</td>\n",
       "      <td>NaN</td>\n",
       "    </tr>\n",
       "    <tr>\n",
       "      <th>CT_MSG</th>\n",
       "      <td>HT</td>\n",
       "      <td>CT</td>\n",
       "      <td>0306</td>\n",
       "      <td>1589335874000</td>\n",
       "      <td>NaN</td>\n",
       "      <td>NaN</td>\n",
       "      <td>NaN</td>\n",
       "      <td>NaN</td>\n",
       "      <td>NaN</td>\n",
       "    </tr>\n",
       "    <tr>\n",
       "      <th>CT_MSG</th>\n",
       "      <td>EH</td>\n",
       "      <td>CT</td>\n",
       "      <td>0311</td>\n",
       "      <td>1589335876000</td>\n",
       "      <td>NaN</td>\n",
       "      <td>NaN</td>\n",
       "      <td>NaN</td>\n",
       "      <td>NaN</td>\n",
       "      <td>NaN</td>\n",
       "    </tr>\n",
       "    <tr>\n",
       "      <th>SF_MSG</th>\n",
       "      <td>EH</td>\n",
       "      <td>SF</td>\n",
       "      <td>NaN</td>\n",
       "      <td>1589335875000</td>\n",
       "      <td>NaN</td>\n",
       "      <td>NaN</td>\n",
       "      <td>NaN</td>\n",
       "      <td>3F</td>\n",
       "      <td>00</td>\n",
       "    </tr>\n",
       "    <tr>\n",
       "      <th>CT_MSG</th>\n",
       "      <td>SU</td>\n",
       "      <td>CT</td>\n",
       "      <td>0310</td>\n",
       "      <td>1589335876000</td>\n",
       "      <td>NaN</td>\n",
       "      <td>NaN</td>\n",
       "      <td>NaN</td>\n",
       "      <td>NaN</td>\n",
       "      <td>NaN</td>\n",
       "    </tr>\n",
       "    <tr>\n",
       "      <th>SF_MSG</th>\n",
       "      <td>BE</td>\n",
       "      <td>SF</td>\n",
       "      <td>NaN</td>\n",
       "      <td>1589335878000</td>\n",
       "      <td>NaN</td>\n",
       "      <td>NaN</td>\n",
       "      <td>NaN</td>\n",
       "      <td>35</td>\n",
       "      <td>AF</td>\n",
       "    </tr>\n",
       "    <tr>\n",
       "      <th>CA_MSG</th>\n",
       "      <td>SU</td>\n",
       "      <td>CA</td>\n",
       "      <td>NaN</td>\n",
       "      <td>1589335885000</td>\n",
       "      <td>662I</td>\n",
       "      <td>0964</td>\n",
       "      <td>0962</td>\n",
       "      <td>NaN</td>\n",
       "      <td>NaN</td>\n",
       "    </tr>\n",
       "  </tbody>\n",
       "</table>\n",
       "</div>"
      ],
      "text/plain": [
       "       area_id msg_type report_time           time descr  from    to address  \\\n",
       "CT_MSG      FH       CT        0254  1589335868000   NaN   NaN   NaN     NaN   \n",
       "CT_MSG      BP       CT        0217  1589335868000   NaN   NaN   NaN     NaN   \n",
       "CT_MSG      BS       CT        2157  1589335869000   NaN   NaN   NaN     NaN   \n",
       "CA_MSG      BE       CA         NaN  1589335872000  428I  0514  0510     NaN   \n",
       "CT_MSG      HT       CT        0306  1589335874000   NaN   NaN   NaN     NaN   \n",
       "CT_MSG      EH       CT        0311  1589335876000   NaN   NaN   NaN     NaN   \n",
       "SF_MSG      EH       SF         NaN  1589335875000   NaN   NaN   NaN      3F   \n",
       "CT_MSG      SU       CT        0310  1589335876000   NaN   NaN   NaN     NaN   \n",
       "SF_MSG      BE       SF         NaN  1589335878000   NaN   NaN   NaN      35   \n",
       "CA_MSG      SU       CA         NaN  1589335885000  662I  0964  0962     NaN   \n",
       "\n",
       "       data  \n",
       "CT_MSG  NaN  \n",
       "CT_MSG  NaN  \n",
       "CT_MSG  NaN  \n",
       "CA_MSG  NaN  \n",
       "CT_MSG  NaN  \n",
       "CT_MSG  NaN  \n",
       "SF_MSG   00  \n",
       "CT_MSG  NaN  \n",
       "SF_MSG   AF  \n",
       "CA_MSG  NaN  "
      ]
     },
     "execution_count": 116,
     "metadata": {},
     "output_type": "execute_result"
    }
   ],
   "source": [
    "pd.concat([pd.DataFrame(msg).T for o in output for msg in json.loads(o)])"
   ]
  },
  {
   "cell_type": "markdown",
   "metadata": {
    "slideshow": {
     "slide_type": "subslide"
    }
   },
   "source": [
    "Let's put all of this parsing logic into a function for later use."
   ]
  },
  {
   "cell_type": "code",
   "execution_count": null,
   "metadata": {
    "slideshow": {
     "slide_type": ""
    }
   },
   "outputs": [],
   "source": [
    "def parser(output):\n",
    "    df_list = []\n",
    "    for o in output:\n",
    "        j = json.loads(o)\n",
    "        for msg in j:\n",
    "            df = pd.DataFrame(msg).T\n",
    "            df_list.append(df)\n",
    "\n",
    "    return pd.concat([pd.DataFrame(msg).T for o in output for msg in json.loads(o)])"
   ]
  },
  {
   "cell_type": "code",
   "execution_count": 115,
   "metadata": {
    "slideshow": {
     "slide_type": "subslide"
    }
   },
   "outputs": [
    {
     "data": {
      "text/html": [
       "<div>\n",
       "<style scoped>\n",
       "    .dataframe tbody tr th:only-of-type {\n",
       "        vertical-align: middle;\n",
       "    }\n",
       "\n",
       "    .dataframe tbody tr th {\n",
       "        vertical-align: top;\n",
       "    }\n",
       "\n",
       "    .dataframe thead th {\n",
       "        text-align: right;\n",
       "    }\n",
       "</style>\n",
       "<table border=\"1\" class=\"dataframe\">\n",
       "  <thead>\n",
       "    <tr style=\"text-align: right;\">\n",
       "      <th></th>\n",
       "      <th>area_id</th>\n",
       "      <th>msg_type</th>\n",
       "      <th>report_time</th>\n",
       "      <th>time</th>\n",
       "      <th>descr</th>\n",
       "      <th>from</th>\n",
       "      <th>to</th>\n",
       "      <th>address</th>\n",
       "      <th>data</th>\n",
       "    </tr>\n",
       "  </thead>\n",
       "  <tbody>\n",
       "    <tr>\n",
       "      <th>CT_MSG</th>\n",
       "      <td>FH</td>\n",
       "      <td>CT</td>\n",
       "      <td>0254</td>\n",
       "      <td>1589335868000</td>\n",
       "      <td>NaN</td>\n",
       "      <td>NaN</td>\n",
       "      <td>NaN</td>\n",
       "      <td>NaN</td>\n",
       "      <td>NaN</td>\n",
       "    </tr>\n",
       "    <tr>\n",
       "      <th>CT_MSG</th>\n",
       "      <td>BP</td>\n",
       "      <td>CT</td>\n",
       "      <td>0217</td>\n",
       "      <td>1589335868000</td>\n",
       "      <td>NaN</td>\n",
       "      <td>NaN</td>\n",
       "      <td>NaN</td>\n",
       "      <td>NaN</td>\n",
       "      <td>NaN</td>\n",
       "    </tr>\n",
       "    <tr>\n",
       "      <th>CT_MSG</th>\n",
       "      <td>BS</td>\n",
       "      <td>CT</td>\n",
       "      <td>2157</td>\n",
       "      <td>1589335869000</td>\n",
       "      <td>NaN</td>\n",
       "      <td>NaN</td>\n",
       "      <td>NaN</td>\n",
       "      <td>NaN</td>\n",
       "      <td>NaN</td>\n",
       "    </tr>\n",
       "    <tr>\n",
       "      <th>CA_MSG</th>\n",
       "      <td>BE</td>\n",
       "      <td>CA</td>\n",
       "      <td>NaN</td>\n",
       "      <td>1589335872000</td>\n",
       "      <td>428I</td>\n",
       "      <td>0514</td>\n",
       "      <td>0510</td>\n",
       "      <td>NaN</td>\n",
       "      <td>NaN</td>\n",
       "    </tr>\n",
       "    <tr>\n",
       "      <th>CT_MSG</th>\n",
       "      <td>HT</td>\n",
       "      <td>CT</td>\n",
       "      <td>0306</td>\n",
       "      <td>1589335874000</td>\n",
       "      <td>NaN</td>\n",
       "      <td>NaN</td>\n",
       "      <td>NaN</td>\n",
       "      <td>NaN</td>\n",
       "      <td>NaN</td>\n",
       "    </tr>\n",
       "    <tr>\n",
       "      <th>CT_MSG</th>\n",
       "      <td>EH</td>\n",
       "      <td>CT</td>\n",
       "      <td>0311</td>\n",
       "      <td>1589335876000</td>\n",
       "      <td>NaN</td>\n",
       "      <td>NaN</td>\n",
       "      <td>NaN</td>\n",
       "      <td>NaN</td>\n",
       "      <td>NaN</td>\n",
       "    </tr>\n",
       "    <tr>\n",
       "      <th>SF_MSG</th>\n",
       "      <td>EH</td>\n",
       "      <td>SF</td>\n",
       "      <td>NaN</td>\n",
       "      <td>1589335875000</td>\n",
       "      <td>NaN</td>\n",
       "      <td>NaN</td>\n",
       "      <td>NaN</td>\n",
       "      <td>3F</td>\n",
       "      <td>00</td>\n",
       "    </tr>\n",
       "    <tr>\n",
       "      <th>CT_MSG</th>\n",
       "      <td>SU</td>\n",
       "      <td>CT</td>\n",
       "      <td>0310</td>\n",
       "      <td>1589335876000</td>\n",
       "      <td>NaN</td>\n",
       "      <td>NaN</td>\n",
       "      <td>NaN</td>\n",
       "      <td>NaN</td>\n",
       "      <td>NaN</td>\n",
       "    </tr>\n",
       "    <tr>\n",
       "      <th>SF_MSG</th>\n",
       "      <td>BE</td>\n",
       "      <td>SF</td>\n",
       "      <td>NaN</td>\n",
       "      <td>1589335878000</td>\n",
       "      <td>NaN</td>\n",
       "      <td>NaN</td>\n",
       "      <td>NaN</td>\n",
       "      <td>35</td>\n",
       "      <td>AF</td>\n",
       "    </tr>\n",
       "    <tr>\n",
       "      <th>CA_MSG</th>\n",
       "      <td>SU</td>\n",
       "      <td>CA</td>\n",
       "      <td>NaN</td>\n",
       "      <td>1589335885000</td>\n",
       "      <td>662I</td>\n",
       "      <td>0964</td>\n",
       "      <td>0962</td>\n",
       "      <td>NaN</td>\n",
       "      <td>NaN</td>\n",
       "    </tr>\n",
       "  </tbody>\n",
       "</table>\n",
       "</div>"
      ],
      "text/plain": [
       "       area_id msg_type report_time           time descr  from    to address  \\\n",
       "CT_MSG      FH       CT        0254  1589335868000   NaN   NaN   NaN     NaN   \n",
       "CT_MSG      BP       CT        0217  1589335868000   NaN   NaN   NaN     NaN   \n",
       "CT_MSG      BS       CT        2157  1589335869000   NaN   NaN   NaN     NaN   \n",
       "CA_MSG      BE       CA         NaN  1589335872000  428I  0514  0510     NaN   \n",
       "CT_MSG      HT       CT        0306  1589335874000   NaN   NaN   NaN     NaN   \n",
       "CT_MSG      EH       CT        0311  1589335876000   NaN   NaN   NaN     NaN   \n",
       "SF_MSG      EH       SF         NaN  1589335875000   NaN   NaN   NaN      3F   \n",
       "CT_MSG      SU       CT        0310  1589335876000   NaN   NaN   NaN     NaN   \n",
       "SF_MSG      BE       SF         NaN  1589335878000   NaN   NaN   NaN      35   \n",
       "CA_MSG      SU       CA         NaN  1589335885000  662I  0964  0962     NaN   \n",
       "\n",
       "       data  \n",
       "CT_MSG  NaN  \n",
       "CT_MSG  NaN  \n",
       "CT_MSG  NaN  \n",
       "CA_MSG  NaN  \n",
       "CT_MSG  NaN  \n",
       "CT_MSG  NaN  \n",
       "SF_MSG   00  \n",
       "CT_MSG  NaN  \n",
       "SF_MSG   AF  \n",
       "CA_MSG  NaN  "
      ]
     },
     "execution_count": 115,
     "metadata": {},
     "output_type": "execute_result"
    }
   ],
   "source": [
    "msgs_df = parser(output)\n",
    "msgs_df"
   ]
  },
  {
   "cell_type": "markdown",
   "metadata": {
    "slideshow": {
     "slide_type": "fragment"
    }
   },
   "source": [
    "We can filter out the null values via a simple boolean indexing operation `df[df.col.notnull()]`"
   ]
  },
  {
   "cell_type": "code",
   "execution_count": 79,
   "metadata": {},
   "outputs": [
    {
     "data": {
      "text/html": [
       "<div>\n",
       "<style scoped>\n",
       "    .dataframe tbody tr th:only-of-type {\n",
       "        vertical-align: middle;\n",
       "    }\n",
       "\n",
       "    .dataframe tbody tr th {\n",
       "        vertical-align: top;\n",
       "    }\n",
       "\n",
       "    .dataframe thead th {\n",
       "        text-align: right;\n",
       "    }\n",
       "</style>\n",
       "<table border=\"1\" class=\"dataframe\">\n",
       "  <thead>\n",
       "    <tr style=\"text-align: right;\">\n",
       "      <th></th>\n",
       "      <th>area_id</th>\n",
       "      <th>msg_type</th>\n",
       "      <th>report_time</th>\n",
       "      <th>time</th>\n",
       "      <th>descr</th>\n",
       "      <th>from</th>\n",
       "      <th>to</th>\n",
       "      <th>address</th>\n",
       "      <th>data</th>\n",
       "    </tr>\n",
       "  </thead>\n",
       "  <tbody>\n",
       "    <tr>\n",
       "      <th>CA_MSG</th>\n",
       "      <td>BE</td>\n",
       "      <td>CA</td>\n",
       "      <td>NaN</td>\n",
       "      <td>1589335872000</td>\n",
       "      <td>428I</td>\n",
       "      <td>0514</td>\n",
       "      <td>0510</td>\n",
       "      <td>NaN</td>\n",
       "      <td>NaN</td>\n",
       "    </tr>\n",
       "    <tr>\n",
       "      <th>CA_MSG</th>\n",
       "      <td>SU</td>\n",
       "      <td>CA</td>\n",
       "      <td>NaN</td>\n",
       "      <td>1589335885000</td>\n",
       "      <td>662I</td>\n",
       "      <td>0964</td>\n",
       "      <td>0962</td>\n",
       "      <td>NaN</td>\n",
       "      <td>NaN</td>\n",
       "    </tr>\n",
       "  </tbody>\n",
       "</table>\n",
       "</div>"
      ],
      "text/plain": [
       "       area_id msg_type report_time           time descr  from    to address  \\\n",
       "CA_MSG      BE       CA         NaN  1589335872000  428I  0514  0510     NaN   \n",
       "CA_MSG      SU       CA         NaN  1589335885000  662I  0964  0962     NaN   \n",
       "\n",
       "       data  \n",
       "CA_MSG  NaN  \n",
       "CA_MSG  NaN  "
      ]
     },
     "execution_count": 79,
     "metadata": {},
     "output_type": "execute_result"
    }
   ],
   "source": [
    "ca_msgs = msgs_df[msgs_df.descr.notnull()]\n",
    "ca_msgs"
   ]
  },
  {
   "cell_type": "markdown",
   "metadata": {
    "slideshow": {
     "slide_type": "slide"
    }
   },
   "source": [
    "# PROJECTS\n",
    "Projects are designed to solidify your understanding of the content above. Solutions are not provided on purpose so you are encouraged to submit a pull request to contribute your solutions."
   ]
  },
  {
   "cell_type": "markdown",
   "metadata": {
    "slideshow": {
     "slide_type": "subslide"
    }
   },
   "source": [
    "## PROJECT 1 - STOMP Command-line application\n",
    "<div class=\"alert alert-success\">\n",
    "Write a command line application that you can use to connect to any of the Network Rail feeds and topics using the credentials which you provide via the terminal. <br/>\n",
    "    \n",
    "The application should accept any of the following commands via the terminal.    \n",
    "    <ul>\n",
    "        <li><b>-u, --username:</b> string - Required - help=account username</li>\n",
    "        <li><b>-p, --password:</b> string - Required - help=account password</li>\n",
    "        <li><b>-f, --feed:</b> string - Required - help=live feed to connect to</li>\n",
    "        <li><b>-t, --topic:</b> string - Required - help= topic to subscribe to</li>\n",
    "        <li><b>-pa, --parse:</b> bool - optional - help=parse messages into tabular format</li>\n",
    "        <li><b>-v, --verbose:</b> bool - optional - help=print out messages as they are recieved</li>\n",
    "        <li><b>-s, --save:</b> bool - optional - help=save messages into disk</li>\n",
    "        <li><b>-fp, --filepath:</b> string - optional - help=filepath to save messages to</li>\n",
    "        <li><b>-h, --help</b> - help=manual for user on how to use this cli</li>\n",
    "    </ul>\n",
    "</div>  "
   ]
  },
  {
   "cell_type": "markdown",
   "metadata": {
    "slideshow": {
     "slide_type": "subslide"
    }
   },
   "source": [
    "<div class=\"alert alert-success\">\n",
    "You should be able to run your application using the command below:  \n",
    "</div>  "
   ]
  },
  {
   "cell_type": "markdown",
   "metadata": {
    "slideshow": {
     "slide_type": "fragment"
    }
   },
   "source": [
    "```bash\n",
    "# bash\n",
    "python my_script.py \\ \n",
    "--username  username \\\n",
    "--password password \\\n",
    "--feed td \\\n",
    "--topic TD_WESS_SIG_AREA \\\n",
    "--verbose \\\n",
    "--parse \\\n",
    "--save \\\n",
    "--filepath data/\n",
    "```"
   ]
  },
  {
   "cell_type": "markdown",
   "metadata": {
    "slideshow": {
     "slide_type": "subslide"
    }
   },
   "source": [
    "## PROJECT 2 - Insufficient Memory\n",
    "<div class=\"alert alert-success\">\n",
    "Your computer memory keeps running out as you listen to the network rail live data feed for a long period of time. Can you implement an algorithm that would: <br/> \n",
    "   <ul>\n",
    "  <li>save the messages received before the memory runs out </li>\n",
    "  <li>clears the memory after each save to procide sufficient space for future messages </li>    \n",
    "  </ul> \n",
    "    \n",
    "For this project assume that after every 10 messages you computer memory runs out.\n",
    "</div>  "
   ]
  },
  {
   "cell_type": "code",
   "execution_count": 16,
   "metadata": {
    "slideshow": {
     "slide_type": ""
    }
   },
   "outputs": [],
   "source": [
    "# TODO - Your code below\n"
   ]
  },
  {
   "cell_type": "markdown",
   "metadata": {
    "slideshow": {
     "slide_type": "subslide"
    }
   },
   "source": [
    "## PROJECT 3 - Organised Storage\n",
    "<div class=\"alert alert-success\">\n",
    "Your computer is aleady full of random files in your preferred storage location. If you save the messages without any naming convention, you may risk losing your files in the haystack.<br/> \n",
    "   <ol>\n",
    "  <li>Can you save the messages received in separate files - based on the minute of day they've been receieved? </li>\n",
    "  <li>Use the naming convention: <span style = 'color: red'>datafeed_topic_year_month_day_hour_minute</span></li>    \n",
    "  </ol> \n",
    "    \n",
    "Here is an example how your message folder should look like after running the algorithm for 15 minutes:\n",
    "\n",
    "   <ul>\n",
    "  <li>nr_td-wessex_24_05_20_13_00.csv</li>\n",
    "  <li>nr_td-wessex_24_05_20_13_01.csv</li>   \n",
    "  <li>nr_td-wessex_24_05_20_13_02.csv</li>   \n",
    "  <li>nr_td-wessex_24_05_20_13_03.csv</li>\n",
    "    </ul>\n",
    "   <ul>\n",
    "  <li>nr_td-wessex_24_05_20_13_13.csv</li>   \n",
    "  <li>nr_td-wessex_24_05_20_13_14.csv</li>   \n",
    "  <li>nr_td-wessex_24_05_20_13_15.csv</li>   \n",
    "  </ul> \n",
    "    \n",
    "</div>  "
   ]
  },
  {
   "cell_type": "code",
   "execution_count": 36,
   "metadata": {
    "slideshow": {
     "slide_type": "fragment"
    }
   },
   "outputs": [],
   "source": [
    "# TODO - Your code below"
   ]
  },
  {
   "cell_type": "markdown",
   "metadata": {
    "slideshow": {
     "slide_type": "subslide"
    }
   },
   "source": [
    "## PROJECT 4 - Parsing messages from other Network Rail feeds\n",
    "\n",
    "<div class=\"alert alert-success\">\n",
    "Messages from one data feed and topic may not be too interesting to work with. You will want to listen and save messages from different topics and feeds then to conduct a good analysis.<br/> \n",
    "   \n",
    "    \n",
    "\n",
    "<div class='alert alert-info'>\n",
    "    Information about the current Network Rail Feeds can be found \n",
    "    <a href='https://wiki.openraildata.com/index.php/About_the_Network_Rail_feeds'><b>here</b></a>\n",
    "    </div>\n",
    "    \n",
    "Each message broker can broadcast several feeds. Several topics can be subscribed in each feed. Each feed can provide a header and body information in each message received.\n",
    "\n",
    "   <ul>\n",
    "  <li>Broker</li>\n",
    "       <ul>\n",
    "           <li>Feed</li>\n",
    "            <ul>\n",
    "                <li>Topic</li>\n",
    "                <ul>\n",
    "                    <li>Header</li>\n",
    "                    <li>Message Body</li>\n",
    "                </ul>\n",
    "           </ul>\n",
    "       </ul>\n",
    "  </ul> \n",
    "    \n",
    "</div>  "
   ]
  },
  {
   "cell_type": "markdown",
   "metadata": {
    "slideshow": {
     "slide_type": "subslide"
    }
   },
   "source": [
    "<div class=\"alert alert-success\">\n",
    "See if you can develop an algorithm that is capable of parsing and saving messages from other data feeds. Is it possible to join these messages for a richer understanding of the data received?\n",
    "</div>\n"
   ]
  },
  {
   "cell_type": "code",
   "execution_count": null,
   "metadata": {
    "slideshow": {
     "slide_type": "fragment"
    }
   },
   "outputs": [],
   "source": [
    "# TODO - Your code below\n"
   ]
  }
 ],
 "metadata": {
  "celltoolbar": "Slideshow",
  "kernelspec": {
   "display_name": "Python 3",
   "language": "python",
   "name": "python3"
  },
  "language_info": {
   "codemirror_mode": {
    "name": "ipython",
    "version": 3
   },
   "file_extension": ".py",
   "mimetype": "text/x-python",
   "name": "python",
   "nbconvert_exporter": "python",
   "pygments_lexer": "ipython3",
   "version": "3.8.1"
  }
 },
 "nbformat": 4,
 "nbformat_minor": 4
}
